{
  "nbformat": 4,
  "nbformat_minor": 0,
  "metadata": {
    "colab": {
      "name": "Computational Linear algebra.ipynb",
      "provenance": [],
      "authorship_tag": "ABX9TyOPsLi8UF7n4An76+XMLYPG",
      "include_colab_link": true
    },
    "kernelspec": {
      "name": "python3",
      "display_name": "Python 3"
    }
  },
  "cells": [
    {
      "cell_type": "markdown",
      "metadata": {
        "id": "view-in-github",
        "colab_type": "text"
      },
      "source": [
        "<a href=\"https://colab.research.google.com/github/parikshit23/Computational-Linear-Algebra/blob/master/Computational_Linear_algebra.ipynb\" target=\"_parent\"><img src=\"https://colab.research.google.com/assets/colab-badge.svg\" alt=\"Open In Colab\"/></a>"
      ]
    },
    {
      "cell_type": "code",
      "metadata": {
        "id": "07q1hGr7Sann",
        "colab_type": "code",
        "colab": {}
      },
      "source": [
        "import numpy as np"
      ],
      "execution_count": 0,
      "outputs": []
    },
    {
      "cell_type": "markdown",
      "metadata": {
        "id": "ZZWqY61Fqm02",
        "colab_type": "text"
      },
      "source": [
        "The HIV Aids stochastic matrix is a s follows:\n",
        "\n",
        "| HIV asymptomatic |  HIV symptomatic | AIDS | DEATH |\n",
        "| --- | --- | --- | ---|\n",
        "| 0.90 | 0.70 | 0.02 | 0.01|\n",
        "| 0 | 0.93 | 0.05 | 0.02|\n",
        "| 0 | 0 | 0.85 | 0.15|\n",
        "| 0 | 0 | 0 | 1|\n",
        "\n",
        "The matrix below gives the probabilities of moving from 1 health state to another in 1 year\n",
        "\n",
        "Eg: In first row, if the patient is asymptomatic then probability of him staying asymptomatic is 0.90, probability of him becoming symptomatic is 0.70, probability of him having aids is 0.02 and\n",
        "probability of him dying is 0.01. The sum of first row is 1.\n",
        "\n",
        "This is based on the probabilities derived from the Markov Chain Rule.\n",
        "\n",
        "If we select of group of people where 85% are asymptomatic, 10% are symptomatic, 5% have AIDS and 0% have died, Then the percentage of population in each health state after one year will be calculated as follows"
      ]
    },
    {
      "cell_type": "code",
      "metadata": {
        "id": "9KteBY-moVYm",
        "colab_type": "code",
        "colab": {}
      },
      "source": [
        "# Creating the HIV Aids stochastic matrix\n",
        "a = np.array([[0.9,0.07,0.02,0.01],\n",
        "              [0,0.93,0.05,0.02],\n",
        "              [0,0,0.85,0.15],\n",
        "              [0,0,0,1.00]])\n",
        "# Creating the Array which represents our test group\n",
        "x = np.array([[0.85,0.10,0.05,0]])"
      ],
      "execution_count": 0,
      "outputs": []
    },
    {
      "cell_type": "markdown",
      "metadata": {
        "id": "p4YPQuA9AMD-",
        "colab_type": "text"
      },
      "source": [
        "In order to calculate the the percentage of population in each health state after one year we will calculate it as follows after transposing the two matrices:\n",
        "- Percentage of population in asymptomatic category after one year will be 0.85*0.90\n",
        "- Percentage of population in symptomatic category after one year will be 0.85x0.70 + 0.10x0.93\n",
        "and so on\n",
        "\n",
        "This can be achived using matrix multiplication as follows"
      ]
    },
    {
      "cell_type": "code",
      "metadata": {
        "id": "rmbBFxq9o2RU",
        "colab_type": "code",
        "colab": {
          "base_uri": "https://localhost:8080/",
          "height": 86
        },
        "outputId": "c57386e7-ff7e-4424-c3bb-06436c82f6f0"
      },
      "source": [
        "a.T @ x.T"
      ],
      "execution_count": 5,
      "outputs": [
        {
          "output_type": "execute_result",
          "data": {
            "text/plain": [
              "array([[0.765 ],\n",
              "       [0.1525],\n",
              "       [0.0645],\n",
              "       [0.018 ]])"
            ]
          },
          "metadata": {
            "tags": []
          },
          "execution_count": 5
        }
      ]
    },
    {
      "cell_type": "code",
      "metadata": {
        "id": "7IF_LhlbVsHn",
        "colab_type": "code",
        "colab": {}
      },
      "source": [
        ""
      ],
      "execution_count": 0,
      "outputs": []
    },
    {
      "cell_type": "code",
      "metadata": {
        "id": "O41qR4Ilw7XG",
        "colab_type": "code",
        "colab": {}
      },
      "source": [
        ""
      ],
      "execution_count": 0,
      "outputs": []
    },
    {
      "cell_type": "code",
      "metadata": {
        "id": "RLLbCkcaw7Ua",
        "colab_type": "code",
        "colab": {}
      },
      "source": [
        ""
      ],
      "execution_count": 0,
      "outputs": []
    },
    {
      "cell_type": "code",
      "metadata": {
        "id": "Igdkskt7w7R4",
        "colab_type": "code",
        "colab": {}
      },
      "source": [
        ""
      ],
      "execution_count": 0,
      "outputs": []
    },
    {
      "cell_type": "code",
      "metadata": {
        "id": "lBctEywww7PM",
        "colab_type": "code",
        "colab": {}
      },
      "source": [
        ""
      ],
      "execution_count": 0,
      "outputs": []
    },
    {
      "cell_type": "code",
      "metadata": {
        "id": "yWJEuZ4rw7MX",
        "colab_type": "code",
        "colab": {}
      },
      "source": [
        ""
      ],
      "execution_count": 0,
      "outputs": []
    },
    {
      "cell_type": "code",
      "metadata": {
        "id": "RfKlMe8dw7JQ",
        "colab_type": "code",
        "colab": {}
      },
      "source": [
        ""
      ],
      "execution_count": 0,
      "outputs": []
    },
    {
      "cell_type": "code",
      "metadata": {
        "id": "ikmWVneBw7GY",
        "colab_type": "code",
        "colab": {}
      },
      "source": [
        ""
      ],
      "execution_count": 0,
      "outputs": []
    },
    {
      "cell_type": "code",
      "metadata": {
        "id": "SDIhKWVtw7Dt",
        "colab_type": "code",
        "colab": {}
      },
      "source": [
        ""
      ],
      "execution_count": 0,
      "outputs": []
    },
    {
      "cell_type": "code",
      "metadata": {
        "id": "83cGmUDrw7AT",
        "colab_type": "code",
        "colab": {}
      },
      "source": [
        ""
      ],
      "execution_count": 0,
      "outputs": []
    },
    {
      "cell_type": "code",
      "metadata": {
        "id": "N6fYUYWgw69S",
        "colab_type": "code",
        "colab": {}
      },
      "source": [
        ""
      ],
      "execution_count": 0,
      "outputs": []
    }
  ]
}